{
 "cells": [
  {
   "cell_type": "code",
   "execution_count": 23,
   "id": "798802d1",
   "metadata": {},
   "outputs": [],
   "source": [
    "import pandas as pd\n",
    "import numpy as np\n",
    "from sklearn.model_selection import train_test_split\n",
    "from sklearn.preprocessing import StandardScaler, OneHotEncoder, RobustScaler\n",
    "from sklearn.compose import ColumnTransformer\n",
    "from sklearn.pipeline import Pipeline\n",
    "from sklearn.neighbors import KNeighborsRegressor\n",
    "from sklearn.metrics import mean_squared_error, r2_score\n",
    "from sklearn.impute import SimpleImputer\n",
    "from sklearn.model_selection import GridSearchCV"
   ]
  },
  {
   "cell_type": "code",
   "execution_count": 24,
   "id": "89a36976",
   "metadata": {},
   "outputs": [
    {
     "name": "stdout",
     "output_type": "stream",
     "text": [
      "RMSE 58146.19510340582\n",
      "R^2 0.7439318885987141\n",
      "Meilleurs paramètres: {'model__metric': 'manhattan', 'model__n_neighbors': 9, 'model__weights': 'distance'}\n"
     ]
    }
   ],
   "source": [
    "df = pd.read_csv(\"housing-train-data-6628a4723213d886993351.csv\")\n",
    "\n",
    "numerical_cols = ['longitude', 'latitude', 'housing_median_age',\n",
    "       'total_rooms', 'total_bedrooms', 'population', 'households',\n",
    "       'median_income']\n",
    "categorical_cols = ['ocean_proximity']\n",
    "\n",
    "X = df.drop(columns=[\"median_house_value\", 'Unnamed: 0'])\n",
    "y = df['median_house_value']\n",
    "X_train, X_test, y_train, y_test = train_test_split(X, y, test_size=0.2, random_state=42)\n",
    "\n",
    "numerical_pipe = Pipeline(steps=[\n",
    "    ('imputer', SimpleImputer(strategy='median')),\n",
    "    ('scaler', RobustScaler())])\n",
    "\n",
    "categorical_pipe = Pipeline(steps=[\n",
    "    ('imputer', SimpleImputer(strategy='most_frequent')),\n",
    "    ('onehot', OneHotEncoder(handle_unknown='ignore', sparse_output=False))])\n",
    "\n",
    "preprocessor = ColumnTransformer(\n",
    "    transformers=[\n",
    "        ('num', numerical_pipe, numerical_cols),\n",
    "        ('cat', categorical_pipe, categorical_cols)])\n",
    "\n",
    "model = KNeighborsRegressor()\n",
    "\n",
    "pipeline = Pipeline([('preprocessor', preprocessor),\n",
    "                     ('model', model)])\n",
    "\n",
    "pipeline.fit(X_train, y_train)\n",
    "\n",
    "y_pred = pipeline.predict(X_test)\n",
    "\n",
    "mse = mean_squared_error(y_test, y_pred)\n",
    "r2 = r2_score(y_test, y_pred)\n",
    "\n",
    "param_grid = {\n",
    "    'model__n_neighbors': [5, 7, 9, 12, 15, 20],\n",
    "    'model__weights': ['uniform', 'distance'],\n",
    "    'model__metric': ['euclidean', 'manhattan']\n",
    "}\n",
    "grid_pipeline = GridSearchCV(pipeline, param_grid, cv=5, scoring='neg_mean_squared_error')\n",
    "\n",
    "grid_pipeline.fit(X_train, y_train)\n",
    "\n",
    "y_pred = grid_pipeline.predict(X_test)\n",
    "\n",
    "mse = mean_squared_error(y_test, y_pred)\n",
    "r2 = r2_score(y_test, y_pred)\n",
    "\n",
    "print(\"RMSE\", np.sqrt(mse))\n",
    "print(\"R^2\", r2)\n",
    "print(\"Meilleurs paramètres:\", grid_pipeline.best_params_)"
   ]
  },
  {
   "cell_type": "code",
   "execution_count": 14,
   "id": "85d796c8",
   "metadata": {},
   "outputs": [
    {
     "name": "stdout",
     "output_type": "stream",
     "text": [
      "Mean Squared Error (Modèle chargé): 59668.06635488564\n",
      "R^2 Score (Modèle chargé): 0.7303522355435221\n",
      "Meilleurs paramètres (Modèle chargé): {'model__algorithm': 'auto', 'model__n_neighbors': 10, 'model__weights': 'distance', 'preprocessor__num__imputer__strategy': 'median'}\n"
     ]
    }
   ],
   "source": [
    "import joblib\n",
    "\n",
    "joblib.dump(grid_pipeline, 'modele_knn.joblib')\n",
    "\n",
    "loaded_model = joblib.load('modele_knn.joblib')\n",
    "\n",
    "y_pred_loaded_model = loaded_model.predict(X_test)\n",
    "\n",
    "mse_loaded_model = mean_squared_error(y_test, y_pred_loaded_model)\n",
    "r2_loaded_model = r2_score(y_test, y_pred_loaded_model)\n",
    "\n",
    "print(\"Mean Squared Error (Modèle chargé):\", np.sqrt(mse_loaded_model))\n",
    "print(\"R^2 Score (Modèle chargé):\", r2_loaded_model)\n",
    "print(\"Meilleurs paramètres (Modèle chargé):\", loaded_model.best_params_)"
   ]
  },
  {
   "cell_type": "code",
   "execution_count": null,
   "id": "c8c50c03",
   "metadata": {},
   "outputs": [],
   "source": []
  }
 ],
 "metadata": {
  "kernelspec": {
   "display_name": "Python 3 (ipykernel)",
   "language": "python",
   "name": "python3"
  },
  "language_info": {
   "codemirror_mode": {
    "name": "ipython",
    "version": 3
   },
   "file_extension": ".py",
   "mimetype": "text/x-python",
   "name": "python",
   "nbconvert_exporter": "python",
   "pygments_lexer": "ipython3",
   "version": "3.10.6"
  }
 },
 "nbformat": 4,
 "nbformat_minor": 5
}
